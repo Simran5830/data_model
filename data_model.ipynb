{
 "cells": [
  {
   "cell_type": "code",
   "execution_count": 2,
   "id": "8312b5ef-2ff2-4784-b6c3-fb5f0b6daa0c",
   "metadata": {},
   "outputs": [],
   "source": [
    "#Importin psycopg2 for connectig to postgresql"
   ]
  },
  {
   "cell_type": "code",
   "execution_count": 3,
   "id": "476e5a6a-dfee-4b19-b3d3-40e128da9873",
   "metadata": {},
   "outputs": [
    {
     "name": "stdout",
     "output_type": "stream",
     "text": [
      "Requirement already satisfied: psycopg2 in c:\\users\\hp\\anaconda3\\lib\\site-packages (2.9.9)\n",
      "Note: you may need to restart the kernel to use updated packages.\n"
     ]
    }
   ],
   "source": [
    "pip install psycopg2"
   ]
  },
  {
   "cell_type": "code",
   "execution_count": 4,
   "id": "2810c249-b1d2-4c04-a3ce-158335051a25",
   "metadata": {},
   "outputs": [],
   "source": [
    "import psycopg2"
   ]
  },
  {
   "cell_type": "code",
   "execution_count": 5,
   "id": "78155306-9f55-43ef-9942-c00c39b0ce9d",
   "metadata": {},
   "outputs": [],
   "source": [
    "# creating a connection"
   ]
  },
  {
   "cell_type": "code",
   "execution_count": 6,
   "id": "c80bb15e-8029-49e2-abe8-cf0c31f11853",
   "metadata": {},
   "outputs": [],
   "source": [
    "try:\n",
    "    con=psycopg2.connect(\"host=127.0.0.1 dbname=postgres user=postgres password=root\")\n",
    "except psycopg2.Error as e:\n",
    "    print(\"Error:couldn't connect to database\")\n",
    "    print(e)"
   ]
  },
  {
   "cell_type": "code",
   "execution_count": 7,
   "id": "c7ebc5b2-e7bc-40f4-bd97-c6c3b663c000",
   "metadata": {},
   "outputs": [],
   "source": [
    "# usin cursor to execute queries"
   ]
  },
  {
   "cell_type": "code",
   "execution_count": 8,
   "id": "e8b37255-e22f-4a97-9257-801ee802cb0f",
   "metadata": {},
   "outputs": [],
   "source": [
    "try:\n",
    "    cur=con.cursor()\n",
    "except psycopg2.Error as e:\n",
    "    print(\"Error:couldn't get cursor\")\n",
    "    print(e)"
   ]
  },
  {
   "cell_type": "code",
   "execution_count": 9,
   "id": "0752604f-bf61-4d5e-8043-aa68e4324a11",
   "metadata": {},
   "outputs": [],
   "source": [
    "#setting autocommit to avoid con.commit() after each statement"
   ]
  },
  {
   "cell_type": "code",
   "execution_count": 10,
   "id": "83f4cde6-fbcc-47e9-baaf-664642c5bee0",
   "metadata": {},
   "outputs": [],
   "source": [
    "con.set_session(autocommit=True)"
   ]
  },
  {
   "cell_type": "code",
   "execution_count": 11,
   "id": "e9503385-27f9-4140-a188-b3ec8cc13eb8",
   "metadata": {},
   "outputs": [],
   "source": [
    "# creatin database"
   ]
  },
  {
   "cell_type": "code",
   "execution_count": 12,
   "id": "76b2c2cc-6fe8-4d0b-b6d5-fda1807e9283",
   "metadata": {},
   "outputs": [
    {
     "name": "stdout",
     "output_type": "stream",
     "text": [
      "database \"myfirstdb\" already exists\n",
      "\n"
     ]
    }
   ],
   "source": [
    "try:\n",
    "    cur.execute(\"create database myfirstdb\")\n",
    "except psycopg2.Error as e:\n",
    "    print(e) "
   ]
  },
  {
   "cell_type": "code",
   "execution_count": 13,
   "id": "b0053535-88eb-43c5-8bb4-14ecb0752dfa",
   "metadata": {},
   "outputs": [],
   "source": [
    "# now closing old connnection and connectin to our new db"
   ]
  },
  {
   "cell_type": "code",
   "execution_count": 15,
   "id": "56a0e496-baef-4df4-8f0b-b0cb4e9e5be6",
   "metadata": {},
   "outputs": [],
   "source": [
    "try:\n",
    "    con.close()\n",
    "except psycopg2.Error as e:\n",
    "    print(e)\n",
    "\n",
    "try:\n",
    "    con=psycopg2.connect(\"host=127.0.0.1 dbname=myfirstdb  user=postgres  password=root\")\n",
    "except psycopg2.Error as e:\n",
    "    print(e)\n",
    "\n",
    "try:\n",
    "    cur=con.cursor()\n",
    "except psycopg2.Error as e:\n",
    "    print(e)\n",
    "\n",
    "con.set_session(autocommit=True)"
   ]
  },
  {
   "cell_type": "code",
   "execution_count": 32,
   "id": "8a90c6d3-1910-4c6e-9a1e-04f17e592a54",
   "metadata": {},
   "outputs": [],
   "source": [
    "try:\n",
    "    cur.execute(\"CREATE TABLE IF NOT EXISTS studen (student_id int, name varchar, age int, gender varchar, subject varchar, marks int);\")\n",
    "except psycopg2.Error as e:\n",
    "    print(e)"
   ]
  },
  {
   "cell_type": "code",
   "execution_count": 33,
   "id": "4c4e7497-3504-4cf6-b8ac-e0ce0a244750",
   "metadata": {},
   "outputs": [],
   "source": [
    "try:\n",
    "    cur.execute(\"INSERT INTO studen (student_id, name, age, gender, subject, marks) VALUES(%s, %s, %s, %s, %s,%s)\",(1, \"Raj\", 23, \"Male\", \"Python\", 85))\n",
    "except psycopg2.Error as e:\n",
    "    print(e)\n",
    "\n",
    "try:\n",
    "    cur.execute(\"INSERT INTO studen (student_id, name, age, gender, subject, marks) VALUES(%s, %s, %s, %s, %s,%s)\",(2, \"Priya\", 22, \"Female\", \"Python\", 86))\n",
    "except psycopg2.Error as e:\n",
    "    print(e)"
   ]
  },
  {
   "cell_type": "code",
   "execution_count": 34,
   "id": "ff35d6b1-9f8e-45dc-825b-90cb0f9c0e97",
   "metadata": {},
   "outputs": [],
   "source": [
    "#let's validate our data"
   ]
  },
  {
   "cell_type": "code",
   "execution_count": 36,
   "id": "b6a764c8-b810-4772-9b1e-f2e9dc33f2c7",
   "metadata": {},
   "outputs": [
    {
     "name": "stdout",
     "output_type": "stream",
     "text": [
      "(1, 'Raj', 23, 'Male', 'Python', 85)\n",
      "(2, 'Priya', 22, 'Female', 'Python', 86)\n"
     ]
    }
   ],
   "source": [
    "try:\n",
    "    cur.execute(\"SELECT * FROM studen;\")\n",
    "except psycopg2.Error as e:\n",
    "    print(e)\n",
    "\n",
    "row=cur.fetchone()\n",
    "while row:\n",
    "    print(row)\n",
    "    row=cur.fetchone()"
   ]
  },
  {
   "cell_type": "code",
   "execution_count": 37,
   "id": "dafe99ff-2330-4f32-b181-f1f532fa00d0",
   "metadata": {},
   "outputs": [],
   "source": [
    "cur.close()\n",
    "con.close()"
   ]
  },
  {
   "cell_type": "code",
   "execution_count": null,
   "id": "7f02e6e5-be39-4ee0-b19e-cdf3c1d1fcfb",
   "metadata": {},
   "outputs": [],
   "source": []
  }
 ],
 "metadata": {
  "kernelspec": {
   "display_name": "Python 3 (ipykernel)",
   "language": "python",
   "name": "python3"
  },
  "language_info": {
   "codemirror_mode": {
    "name": "ipython",
    "version": 3
   },
   "file_extension": ".py",
   "mimetype": "text/x-python",
   "name": "python",
   "nbconvert_exporter": "python",
   "pygments_lexer": "ipython3",
   "version": "3.12.4"
  }
 },
 "nbformat": 4,
 "nbformat_minor": 5
}
